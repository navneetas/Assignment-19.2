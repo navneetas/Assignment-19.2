{
 "cells": [
  {
   "cell_type": "code",
   "execution_count": 1,
   "metadata": {},
   "outputs": [],
   "source": [
    "import pandas as pd\n",
    "import numpy as np\n",
    "import scipy.stats as stats\n",
    "from scipy.stats import f"
   ]
  },
  {
   "cell_type": "code",
   "execution_count": 2,
   "metadata": {},
   "outputs": [],
   "source": [
    "##For createing example data\n",
    "Group1 = [51, 45, 33, 45, 67]\n",
    "Group2 = [23, 43, 23, 43, 45]\n",
    "Group3 = [56, 76, 74, 87, 56]"
   ]
  },
  {
   "cell_type": "code",
   "execution_count": 3,
   "metadata": {},
   "outputs": [],
   "source": [
    "df = pd.DataFrame({'Subid':range(1, len(Group1)+1), 'Group1': Group1, 'Group2': Group2, 'Group3': Group3 })"
   ]
  },
  {
   "cell_type": "code",
   "execution_count": 4,
   "metadata": {},
   "outputs": [
    {
     "data": {
      "text/html": [
       "<div>\n",
       "<style scoped>\n",
       "    .dataframe tbody tr th:only-of-type {\n",
       "        vertical-align: middle;\n",
       "    }\n",
       "\n",
       "    .dataframe tbody tr th {\n",
       "        vertical-align: top;\n",
       "    }\n",
       "\n",
       "    .dataframe thead th {\n",
       "        text-align: right;\n",
       "    }\n",
       "</style>\n",
       "<table border=\"1\" class=\"dataframe\">\n",
       "  <thead>\n",
       "    <tr style=\"text-align: right;\">\n",
       "      <th></th>\n",
       "      <th>Group1</th>\n",
       "      <th>Group2</th>\n",
       "      <th>Group3</th>\n",
       "      <th>Subid</th>\n",
       "    </tr>\n",
       "  </thead>\n",
       "  <tbody>\n",
       "    <tr>\n",
       "      <th>0</th>\n",
       "      <td>51</td>\n",
       "      <td>23</td>\n",
       "      <td>56</td>\n",
       "      <td>1</td>\n",
       "    </tr>\n",
       "    <tr>\n",
       "      <th>1</th>\n",
       "      <td>45</td>\n",
       "      <td>43</td>\n",
       "      <td>76</td>\n",
       "      <td>2</td>\n",
       "    </tr>\n",
       "    <tr>\n",
       "      <th>2</th>\n",
       "      <td>33</td>\n",
       "      <td>23</td>\n",
       "      <td>74</td>\n",
       "      <td>3</td>\n",
       "    </tr>\n",
       "    <tr>\n",
       "      <th>3</th>\n",
       "      <td>45</td>\n",
       "      <td>43</td>\n",
       "      <td>87</td>\n",
       "      <td>4</td>\n",
       "    </tr>\n",
       "    <tr>\n",
       "      <th>4</th>\n",
       "      <td>67</td>\n",
       "      <td>45</td>\n",
       "      <td>56</td>\n",
       "      <td>5</td>\n",
       "    </tr>\n",
       "  </tbody>\n",
       "</table>\n",
       "</div>"
      ],
      "text/plain": [
       "   Group1  Group2  Group3  Subid\n",
       "0      51      23      56      1\n",
       "1      45      43      76      2\n",
       "2      33      23      74      3\n",
       "3      45      43      87      4\n",
       "4      67      45      56      5"
      ]
     },
     "execution_count": 4,
     "metadata": {},
     "output_type": "execute_result"
    }
   ],
   "source": [
    "df.head()"
   ]
  },
  {
   "cell_type": "code",
   "execution_count": 5,
   "metadata": {},
   "outputs": [],
   "source": [
    "##function to calculate the grand mean\n",
    "\n",
    "def cal_grandmean(data, columns):\n",
    "    data = df\n",
    "    columns = ['Group1', 'Group2', 'Group3']\n",
    "    gm = np.mean(data[columns]. mean())\n",
    "    \n",
    "    return gm"
   ]
  },
  {
   "cell_type": "code",
   "execution_count": 6,
   "metadata": {},
   "outputs": [],
   "source": [
    "#After data creation we calculate the grand mean, subject mean, and column means.\n",
    "grand_mean = cal_grandmean(df, ['Group1', 'Group2', 'Group3'])\n",
    "df['Submean'] = df[['Group1', 'Group2', 'Group3']].mean(axis =1)\n",
    "column_means = df[['Group1', 'Group2', 'Group3']].mean(axis =0)"
   ]
  },
  {
   "cell_type": "code",
   "execution_count": 7,
   "metadata": {},
   "outputs": [
    {
     "data": {
      "text/plain": [
       "51.133333333333326"
      ]
     },
     "execution_count": 7,
     "metadata": {},
     "output_type": "execute_result"
    }
   ],
   "source": [
    "grand_mean"
   ]
  },
  {
   "cell_type": "code",
   "execution_count": 9,
   "metadata": {},
   "outputs": [],
   "source": [
    "##To get the sample size and the number of levels of the within-subject factor\n",
    "n = len(df['Subid'])\n",
    "k = len(['Group1', 'Group2', 'Group3'])\n",
    "\n",
    "#Degree of Freedom\n",
    "ncells = df[['Group1', 'Group2', 'Group3']].size\n",
    "dftotal = ncells-1\n",
    "dfbw = k-1\n",
    "dfsbj = n- 2                    #removing the subid and index cols.\n",
    "dfw = ncells-k\n",
    "dferror = ncells - dfsbj"
   ]
  },
  {
   "cell_type": "code",
   "execution_count": 10,
   "metadata": {},
   "outputs": [],
   "source": [
    "#Sum of Squares Between\n",
    "SSbetween = sum(n*[(m - grand_mean)**2 for m in column_means])"
   ]
  },
  {
   "cell_type": "code",
   "execution_count": 11,
   "metadata": {},
   "outputs": [],
   "source": [
    "#Sum of Squares Within\n",
    "SSwithin = sum(sum([(df[col]- column_means[i])**2 for i, col in enumerate(df[['Group1', 'Group2', 'Group3']])]))"
   ]
  },
  {
   "cell_type": "code",
   "execution_count": 12,
   "metadata": {},
   "outputs": [],
   "source": [
    "# Sum of Squares Subjects\n",
    "SSsubject = sum(k*[(m-grand_mean)**2 for m in df['Submean']])"
   ]
  },
  {
   "cell_type": "code",
   "execution_count": 13,
   "metadata": {},
   "outputs": [],
   "source": [
    "#Mean square error  \n",
    "MSerror = sum(df[['Group1', 'Group2', 'Group3']].var())/dfsbj\n"
   ]
  },
  {
   "cell_type": "code",
   "execution_count": 15,
   "metadata": {},
   "outputs": [],
   "source": [
    "# Sum of Squares Error\n",
    "SSerror = MSerror * dferror"
   ]
  },
  {
   "cell_type": "code",
   "execution_count": 16,
   "metadata": {},
   "outputs": [
    {
     "data": {
      "text/plain": [
       "1860.8"
      ]
     },
     "execution_count": 16,
     "metadata": {},
     "output_type": "execute_result"
    }
   ],
   "source": [
    "SSerror"
   ]
  },
  {
   "cell_type": "code",
   "execution_count": 17,
   "metadata": {},
   "outputs": [],
   "source": [
    "#sum of squared deviations of all observations\n",
    "SStotal = SSbetween + SSwithin"
   ]
  },
  {
   "cell_type": "code",
   "execution_count": 18,
   "metadata": {},
   "outputs": [
    {
     "data": {
      "text/plain": [
       "4883.733333333334"
      ]
     },
     "execution_count": 18,
     "metadata": {},
     "output_type": "execute_result"
    }
   ],
   "source": [
    "SStotal"
   ]
  },
  {
   "cell_type": "code",
   "execution_count": 19,
   "metadata": {},
   "outputs": [],
   "source": [
    "##Mean square between\n",
    "MSbetween = SSbetween/dfbw"
   ]
  },
  {
   "cell_type": "code",
   "execution_count": 20,
   "metadata": {},
   "outputs": [
    {
     "data": {
      "text/plain": [
       "1511.4666666666667"
      ]
     },
     "execution_count": 20,
     "metadata": {},
     "output_type": "execute_result"
    }
   ],
   "source": [
    "MSbetween"
   ]
  },
  {
   "cell_type": "code",
   "execution_count": 21,
   "metadata": {},
   "outputs": [],
   "source": [
    "##After we have calculated the Mean square error and Mean square between we can obtain the F-statitistica\n",
    "F = MSbetween/MSerror"
   ]
  },
  {
   "cell_type": "code",
   "execution_count": 22,
   "metadata": {},
   "outputs": [
    {
     "data": {
      "text/plain": [
       "9.747205503009459"
      ]
     },
     "execution_count": 22,
     "metadata": {},
     "output_type": "execute_result"
    }
   ],
   "source": [
    "F"
   ]
  },
  {
   "cell_type": "code",
   "execution_count": 23,
   "metadata": {},
   "outputs": [],
   "source": [
    "alpha = 0.05\n",
    "p = stats.f.sf(F, dfbw, dferror)"
   ]
  },
  {
   "cell_type": "code",
   "execution_count": 24,
   "metadata": {},
   "outputs": [],
   "source": [
    "#Effect size\n",
    "eta_sqrd = SSbetween/SStotal"
   ]
  },
  {
   "cell_type": "code",
   "execution_count": 25,
   "metadata": {},
   "outputs": [
    {
     "name": "stdout",
     "output_type": "stream",
     "text": [
      "APA writeup\n",
      "F()= 9.75\n",
      "p< 0.05\n",
      "η² = 0.62\n"
     ]
    }
   ],
   "source": [
    "#Write up the results in APA format.\n",
    "\n",
    "print('APA writeup')\n",
    "print('F()= {:.2f}'.format(F))\n",
    "\n",
    "if p<alpha:\n",
    "    print('p<', alpha) \n",
    "    \n",
    "else:\n",
    "    print('p>', alpha)\n",
    "\n",
    "print('\\u03B7\\u00b2 = {:.2f}'.format(eta_sqrd))"
   ]
  },
  {
   "cell_type": "code",
   "execution_count": null,
   "metadata": {},
   "outputs": [],
   "source": []
  }
 ],
 "metadata": {
  "kernelspec": {
   "display_name": "Python 3",
   "language": "python",
   "name": "python3"
  },
  "language_info": {
   "codemirror_mode": {
    "name": "ipython",
    "version": 3
   },
   "file_extension": ".py",
   "mimetype": "text/x-python",
   "name": "python",
   "nbconvert_exporter": "python",
   "pygments_lexer": "ipython3",
   "version": "3.6.4"
  }
 },
 "nbformat": 4,
 "nbformat_minor": 2
}
